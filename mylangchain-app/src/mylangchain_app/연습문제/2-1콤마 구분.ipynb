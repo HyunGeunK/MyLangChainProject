{
 "cells": [
  {
   "cell_type": "markdown",
   "id": "57205011",
   "metadata": {},
   "source": [
    "문제 2-1: 콤마 구분 리스트 파서 활용"
   ]
  },
  {
   "cell_type": "code",
   "execution_count": 2,
   "id": "d1c7f4ed",
   "metadata": {},
   "outputs": [
    {
     "name": "stdout",
     "output_type": "stream",
     "text": [
      "## 관심 분야: 음식\n",
      "## 추천 리스트:\n",
      "['음식에 관심이 있는 사용자에게 추천하는 한국의 유명한 장소나 활동 5가지는 다음과 같습니다:',\n",
      " '1. 광장시장',\n",
      " '서울: 다양한 종류의 한국 길거리 음식을 맛볼 수 있는 대표적인 전통 시장입니다.',\n",
      " '2. 전주 한옥마을',\n",
      " '전북 전주: 전주의 전통 음식인 비빔밥',\n",
      " '떡갈비',\n",
      " '전주막걸리 등을 즐길 수 있는 곳입니다.',\n",
      " '3. 부산 국제시장',\n",
      " '부산: 다양한 해산물과 함께 부산의 대표적인 음식인 어묵',\n",
      " '돼지국밥 등을 맛볼 수 있습니다.',\n",
      " '4. 경복궁 맛집 거리',\n",
      " '서울: 경복궁 근처에 위치한 전통 있는 한식당들이 많아 한국 전통 음식을 즐기기에 좋습니다.',\n",
      " '5. 한국 요리 클래스: 한국에서 직접 한국 요리를 배워보고 싶다면',\n",
      " '다양한 요리 클래스에 참여해보는 것도 좋은 경험이 될 것입니다.']\n"
     ]
    }
   ],
   "source": [
    "import os\n",
    "from pprint import pprint\n",
    "from dotenv import load_dotenv\n",
    "from langchain_core.prompts import ChatPromptTemplate\n",
    "from langchain_core.output_parsers import CommaSeparatedListOutputParser\n",
    "\n",
    "from langchain_upstage import ChatUpstage\n",
    "\n",
    "# .env 파일에서 환경 변수 로드\n",
    "load_dotenv()\n",
    "\n",
    "# LLM 설정 (Upstage Solar 모델 사용)\n",
    "llm = ChatUpstage(\n",
    "    api_key=os.getenv(\"UPSTAGE_API_KEY\"),\n",
    "    model=\"solar-1-mini-chat\", # solar-1-mini-chat-ko-instruct 모델도 사용 가능\n",
    "    temperature=0.1\n",
    ")\n",
    "\n",
    "# 1. 출력 파서 생성\n",
    "output_parser = CommaSeparatedListOutputParser()\n",
    "# 파서가 LLM에게 어떤 형식으로 출력해야 하는지 알려주는 지침을 가져옵니다.\n",
    "format_instructions = output_parser.get_format_instructions()\n",
    "\n",
    "# 2. 프롬프트 템플릿 생성\n",
    "prompt = ChatPromptTemplate.from_template(\n",
    "    \"\"\"당신은 한국 문화 전문가입니다. 사용자가 관심있어 하는 분야와 관련된 한국의 유명한 장소나 활동 5가지를 추천해주세요.\n",
    "    \n",
    "{instructions}\n",
    "\n",
    "관심 분야: {interest}\"\"\"\n",
    ")\n",
    "\n",
    "# 3. 체인 생성 및 실행\n",
    "chain = prompt | llm | output_parser\n",
    "interest = \"음식\"\n",
    "result = chain.invoke({\"interest\": interest, \"instructions\": format_instructions})\n",
    "\n",
    "print(f\"## 관심 분야: {interest}\")\n",
    "print(\"## 추천 리스트:\")\n",
    "pprint(result)"
   ]
  }
 ],
 "metadata": {
  "kernelspec": {
   "display_name": "mylangchain-app-SBe-Yh6W-py3.12",
   "language": "python",
   "name": "python3"
  },
  "language_info": {
   "codemirror_mode": {
    "name": "ipython",
    "version": 3
   },
   "file_extension": ".py",
   "mimetype": "text/x-python",
   "name": "python",
   "nbconvert_exporter": "python",
   "pygments_lexer": "ipython3",
   "version": "3.12.7"
  }
 },
 "nbformat": 4,
 "nbformat_minor": 5
}
