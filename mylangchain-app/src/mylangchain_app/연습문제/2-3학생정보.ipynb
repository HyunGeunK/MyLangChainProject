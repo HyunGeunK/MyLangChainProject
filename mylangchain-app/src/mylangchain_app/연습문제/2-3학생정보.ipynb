{
 "cells": [
  {
   "cell_type": "markdown",
   "id": "1d559e4d",
   "metadata": {},
   "source": [
    "문제 2-3: 학생 정보 구조화 시스템"
   ]
  },
  {
   "cell_type": "code",
   "execution_count": 1,
   "id": "7c2c100f",
   "metadata": {},
   "outputs": [
    {
     "name": "stdout",
     "output_type": "stream",
     "text": [
      "## 입력 텍스트:\n",
      "('안녕하세요! 저는 김민수이고 22살입니다. 컴퓨터공학을 전공하고 있어요. 취미로는 게임하기, 영화보기, 코딩을 좋아합니다. 앞으로 훌륭한 '\n",
      " '개발자가 되는 것이 목표입니다.')\n",
      "\n",
      "## 추출된 구조화 데이터:\n",
      "{'age': 22,\n",
      " 'goal': '훌륭한 개발자가 되기',\n",
      " 'hobbies': ['게임하기', '영화보기', '코딩'],\n",
      " 'major': '컴퓨터공학',\n",
      " 'name': '김민수'}\n"
     ]
    },
    {
     "name": "stderr",
     "output_type": "stream",
     "text": [
      "C:\\Users\\user\\AppData\\Local\\Temp\\ipykernel_22616\\653007045.py:50: PydanticDeprecatedSince20: The `dict` method is deprecated; use `model_dump` instead. Deprecated in Pydantic V2.0 to be removed in V3.0. See Pydantic V2 Migration Guide at https://errors.pydantic.dev/2.11/migration/\n",
      "  pprint(result.dict())\n"
     ]
    }
   ],
   "source": [
    "import os\n",
    "from typing import List\n",
    "from pprint import pprint\n",
    "from dotenv import load_dotenv\n",
    "from langchain_upstage import ChatUpstage\n",
    "from langchain_core.prompts import ChatPromptTemplate\n",
    "from langchain_core.output_parsers import PydanticOutputParser\n",
    "from pydantic import BaseModel, Field\n",
    "\n",
    "# .env 파일에서 환경 변수 로드\n",
    "load_dotenv()\n",
    "\n",
    "# LLM 설정 (Upstage Solar 모델 사용)\n",
    "llm = ChatUpstage(\n",
    "    api_key=os.getenv(\"UPSTAGE_API_KEY\"),\n",
    "    model=\"solar-1-mini-chat\", # solar-1-mini-chat-ko-instruct 모델도 사용 가능\n",
    "    temperature=0.1\n",
    ")\n",
    "\n",
    "# 1. Pydantic 모델(데이터 구조) 정의\n",
    "class StudentInfo(BaseModel):\n",
    "    name: str = Field(description=\"학생의 이름\")\n",
    "    age: int = Field(description=\"학생의 나이\")\n",
    "    major: str = Field(description=\"학생의 전공\")\n",
    "    hobbies: List[str] = Field(description=\"학생의 취미 목록\")\n",
    "    goal: str = Field(description=\"학생의 목표\")\n",
    "\n",
    "# 2. PydanticOutputParser 생성\n",
    "parser = PydanticOutputParser(pydantic_object=StudentInfo)\n",
    "\n",
    "# 3. 프롬프트 템플릿 생성\n",
    "prompt = ChatPromptTemplate.from_messages(\n",
    "    [\n",
    "        (\"system\", \"당신은 주어진 텍스트에서 학생 정보를 추출하는 전문가입니다.\\n{format_instructions}\"),\n",
    "        (\"human\", \"{introduction}\"),\n",
    "    ]\n",
    ")\n",
    "\n",
    "# 4. 체인 생성 및 실행\n",
    "chain = prompt | llm | parser\n",
    "introduction_text = \"안녕하세요! 저는 김민수이고 22살입니다. 컴퓨터공학을 전공하고 있어요. 취미로는 게임하기, 영화보기, 코딩을 좋아합니다. 앞으로 훌륭한 개발자가 되는 것이 목표입니다.\"\n",
    "result = chain.invoke({\n",
    "    \"introduction\": introduction_text,\n",
    "    \"format_instructions\": parser.get_format_instructions(),\n",
    "})\n",
    "\n",
    "print(\"## 입력 텍스트:\")\n",
    "pprint(introduction_text)\n",
    "print(\"\\n## 추출된 구조화 데이터:\")\n",
    "pprint(result.dict())"
   ]
  }
 ],
 "metadata": {
  "kernelspec": {
   "display_name": "mylangchain-app-SBe-Yh6W-py3.12",
   "language": "python",
   "name": "python3"
  },
  "language_info": {
   "codemirror_mode": {
    "name": "ipython",
    "version": 3
   },
   "file_extension": ".py",
   "mimetype": "text/x-python",
   "name": "python",
   "nbconvert_exporter": "python",
   "pygments_lexer": "ipython3",
   "version": "3.12.7"
  }
 },
 "nbformat": 4,
 "nbformat_minor": 5
}
