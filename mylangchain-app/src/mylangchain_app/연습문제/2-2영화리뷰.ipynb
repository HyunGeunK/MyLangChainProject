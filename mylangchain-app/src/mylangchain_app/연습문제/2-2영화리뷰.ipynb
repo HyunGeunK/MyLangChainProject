{
 "cells": [
  {
   "cell_type": "markdown",
   "id": "1067d612",
   "metadata": {},
   "source": [
    "문제 2-2: 영화 리뷰 감정 분석기"
   ]
  },
  {
   "cell_type": "code",
   "execution_count": 5,
   "id": "c86509e1",
   "metadata": {},
   "outputs": [
    {
     "name": "stdout",
     "output_type": "stream",
     "text": [
      "## 리뷰 1: \"이 영화 정말 재미없어요. 시간 낭비였습니다.\"\n",
      "-> 분석 결과: 부정\n",
      "\n",
      "## 리뷰 2: \"배우들의 연기가 훌륭하고 스토리도 감동적이었어요!\"\n",
      "-> 분석 결과: 긍정\n",
      "\n",
      "## 리뷰 3: \"그냥 무난한 영화였습니다. 나쁘지도 좋지도 않아요.\"\n",
      "-> 분석 결과: 보통\n",
      "\n"
     ]
    }
   ],
   "source": [
    "import os\n",
    "from enum import Enum\n",
    "from pprint import pprint\n",
    "from dotenv import load_dotenv\n",
    "from langchain_upstage import ChatUpstage\n",
    "from langchain_core.prompts import ChatPromptTemplate\n",
    "from langchain.output_parsers import EnumOutputParser\n",
    "\n",
    "# .env 파일에서 환경 변수 로드\n",
    "load_dotenv()\n",
    "\n",
    "# LLM 설정 (Upstage Solar 모델 사용)\n",
    "llm = ChatUpstage(\n",
    "    api_key=os.getenv(\"UPSTAGE_API_KEY\"),\n",
    "    model=\"solar-1-mini-chat\", # solar-1-mini-chat-ko-instruct 모델도 사용 가능\n",
    "    temperature=0.1\n",
    ")\n",
    "# 1. 감정 분류를 위한 Enum 클래스 정의\n",
    "class Sentiment(Enum):\n",
    "    POSITIVE = \"긍정\"\n",
    "    NEGATIVE = \"부정\"\n",
    "    NEUTRAL = \"보통\"\n",
    "\n",
    "# 2. EnumOutputParser 생성\n",
    "parser = EnumOutputParser(enum=Sentiment)\n",
    "\n",
    "# 3. 프롬프트 템플릿 생성\n",
    "prompt = ChatPromptTemplate.from_template(\n",
    "    \"\"\"다음 영화 리뷰의 감정을 분석하여, 반드시 '긍정', '부정', '보통' 중 하나로만 답변해야 합니다. \n",
    "    다른 어떤 설명도 추가하지 마세요.\n",
    "    \n",
    "    {instructions}\n",
    "\n",
    "    리뷰: {review}\n",
    "    답변:\"\"\"\n",
    ")\n",
    "\n",
    "# 4. 체인 생성\n",
    "chain = prompt | llm | parser\n",
    "\n",
    "# 5. 여러 리뷰로 테스트\n",
    "test_reviews = [\n",
    "    \"이 영화 정말 재미없어요. 시간 낭비였습니다.\",\n",
    "    \"배우들의 연기가 훌륭하고 스토리도 감동적이었어요!\",\n",
    "    \"그냥 무난한 영화였습니다. 나쁘지도 좋지도 않아요.\",\n",
    "]\n",
    "\n",
    "for i, review in enumerate(test_reviews):\n",
    "    result = chain.invoke({\n",
    "        \"review\": review,\n",
    "        \"instructions\": parser.get_format_instructions(),\n",
    "    })\n",
    "    print(f\"## 리뷰 {i+1}: \\\"{review}\\\"\")\n",
    "    print(f\"-> 분석 결과: {result.value}\\n\")"
   ]
  }
 ],
 "metadata": {
  "kernelspec": {
   "display_name": "mylangchain-app-SBe-Yh6W-py3.12",
   "language": "python",
   "name": "python3"
  },
  "language_info": {
   "codemirror_mode": {
    "name": "ipython",
    "version": 3
   },
   "file_extension": ".py",
   "mimetype": "text/x-python",
   "name": "python",
   "nbconvert_exporter": "python",
   "pygments_lexer": "ipython3",
   "version": "3.12.7"
  }
 },
 "nbformat": 4,
 "nbformat_minor": 5
}
