{
 "cells": [
  {
   "cell_type": "markdown",
   "id": "62a81eb0",
   "metadata": {},
   "source": [
    "문제 2-4: 여행 계획 분석기"
   ]
  },
  {
   "cell_type": "code",
   "execution_count": 5,
   "id": "eaf674e2",
   "metadata": {},
   "outputs": [
    {
     "name": "stdout",
     "output_type": "stream",
     "text": [
      "## 입력 텍스트:\n",
      "('지난 주에 부산으로 2박 3일 여행을 다녀왔어요. 총 30만원 정도 썼는데 해운대에서 바다구경하고, 자갈치시장에서 회 먹고, '\n",
      " '감천문화마을도 구경했어요. 정말 만족스러운 여행이었습니다. 5점 만점에 4점 정도 줄 수 있을 것 같아요.')\n",
      "\n",
      "## 추출된 구조화 데이터:\n",
      "{'activities': ['해운대에서 바다구경', '자갈치시장에서 회 먹기', '감천문화마을 구경'],\n",
      " 'budget': '30만원',\n",
      " 'destination': '부산',\n",
      " 'duration': '2박 3일',\n",
      " 'rating': '4점'}\n"
     ]
    }
   ],
   "source": [
    "import os\n",
    "from pprint import pprint\n",
    "from dotenv import load_dotenv\n",
    "from langchain_upstage import ChatUpstage\n",
    "from langchain_core.prompts import ChatPromptTemplate\n",
    "from langchain.output_parsers import StructuredOutputParser, ResponseSchema\n",
    "\n",
    "# .env 파일에서 환경 변수 로드\n",
    "load_dotenv()\n",
    "\n",
    "# LLM 설정 (Upstage Solar 모델 사용)\n",
    "llm = ChatUpstage(\n",
    "    api_key=os.getenv(\"UPSTAGE_API_KEY\"),\n",
    "    model=\"solar-1-mini-chat\", # solar-1-mini-chat-ko-instruct 모델도 사용 가능\n",
    "    temperature=0.1\n",
    ")\n",
    "\n",
    "# 1. 추출할 정보의 스키마(구조) 정의\n",
    "response_schemas = [\n",
    "    ResponseSchema(name=\"destination\", description=\"여행지\", type=\"string\"),\n",
    "    ResponseSchema(name=\"duration\", description=\"여행 기간\", type=\"string\"),\n",
    "    ResponseSchema(name=\"budget\", description=\"총 예산\", type=\"string\"),\n",
    "    ResponseSchema(name=\"rating\", description=\"추천도 (1-5점)\", type=\"string\"),\n",
    "    ResponseSchema(name=\"activities\", description=\"주요 활동 목록\", type=\"list\"),\n",
    "]\n",
    "\n",
    "# 2. StructuredOutputParser 생성\n",
    "output_parser = StructuredOutputParser.from_response_schemas(response_schemas)\n",
    "format_instructions = output_parser.get_format_instructions()\n",
    "\n",
    "# 3. 프롬프트 템플릿 생성\n",
    "prompt = ChatPromptTemplate.from_template(\n",
    "    \"\"\"주어진 여행 후기 텍스트에서 다음 정보를 추출해주세요.\n",
    "    \n",
    "{instructions}\n",
    "\n",
    "여행 후기:\n",
    "{review}\"\"\"\n",
    ")\n",
    "\n",
    "# 4. 체인 생성 및 실행\n",
    "chain = prompt | llm | output_parser\n",
    "review_text = \"지난 주에 부산으로 2박 3일 여행을 다녀왔어요. 총 30만원 정도 썼는데 해운대에서 바다구경하고, 자갈치시장에서 회 먹고, 감천문화마을도 구경했어요. 정말 만족스러운 여행이었습니다. 5점 만점에 4점 정도 줄 수 있을 것 같아요.\"\n",
    "result = chain.invoke({\"review\": review_text, \"instructions\": format_instructions})\n",
    "\n",
    "print(\"## 입력 텍스트:\")\n",
    "pprint(review_text)\n",
    "print(\"\\n## 추출된 구조화 데이터:\")\n",
    "pprint(result)"
   ]
  }
 ],
 "metadata": {
  "kernelspec": {
   "display_name": "mylangchain-app-SBe-Yh6W-py3.12",
   "language": "python",
   "name": "python3"
  },
  "language_info": {
   "codemirror_mode": {
    "name": "ipython",
    "version": 3
   },
   "file_extension": ".py",
   "mimetype": "text/x-python",
   "name": "python",
   "nbconvert_exporter": "python",
   "pygments_lexer": "ipython3",
   "version": "3.12.7"
  }
 },
 "nbformat": 4,
 "nbformat_minor": 5
}
