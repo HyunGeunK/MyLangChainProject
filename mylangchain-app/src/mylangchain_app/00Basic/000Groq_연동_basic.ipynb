{
 "cells": [
  {
   "cell_type": "code",
   "execution_count": 4,
   "metadata": {},
   "outputs": [
    {
     "name": "stdout",
     "output_type": "stream",
     "text": [
      "Hello LangChain\n"
     ]
    }
   ],
   "source": [
    "print(\"Hello LangChain\")"
   ]
  },
  {
   "cell_type": "code",
   "execution_count": 3,
   "metadata": {},
   "outputs": [
    {
     "name": "stdout",
     "output_type": "stream",
     "text": [
      "gsk_YCOaek\n"
     ]
    }
   ],
   "source": [
    "import os\n",
    "from dotenv import load_dotenv\n",
    "from langchain_core.prompts import ChatPromptTemplate\n",
    "from langchain_openai import ChatOpenAI \n",
    "\n",
    "load_dotenv(dotenv_path='.env')\n",
    "OPENAI_API_KEY = os.getenv(\"OPENAI_API_KEY\")\n",
    "print(OPENAI_API_KEY[:10])\n"
   ]
  },
  {
   "cell_type": "code",
   "execution_count": 7,
   "metadata": {},
   "outputs": [
    {
     "name": "stdout",
     "output_type": "stream",
     "text": [
      "<class 'langchain_core.prompts.chat.ChatPromptTemplate'>\n",
      "input_variables=['input'] input_types={} partial_variables={} messages=[SystemMessagePromptTemplate(prompt=PromptTemplate(input_variables=[], input_types={}, partial_variables={}, template='당신은 개발자입니다.'), additional_kwargs={}), HumanMessagePromptTemplate(prompt=PromptTemplate(input_variables=['input'], input_types={}, partial_variables={}, template='{input}'), additional_kwargs={})]\n"
     ]
    }
   ],
   "source": [
    "# prompt + llm + output \n",
    "\n",
    "# prompt\n",
    "prompt = ChatPromptTemplate.from_messages(\n",
    "    [ (\"system\", \"당신은 개발자입니다.\") , \n",
    "     (\"user\", \"{input}\") ]\n",
    ")\n",
    "print(type(prompt))\n",
    "print(prompt)"
   ]
  },
  {
   "cell_type": "code",
   "execution_count": 8,
   "metadata": {},
   "outputs": [
    {
     "name": "stdout",
     "output_type": "stream",
     "text": [
      "<class 'str'>\n",
      "System: 당신은 개발자입니다.\n",
      "Human: 파이썬은 무엇인가요? 자세하게 설명해주세요\n"
     ]
    }
   ],
   "source": [
    "prompt_text = prompt.format(input=\"파이썬은 무엇인가요? 자세하게 설명해주세요\")\n",
    "print(type(prompt_text))\n",
    "print(prompt_text)"
   ]
  },
  {
   "cell_type": "code",
   "execution_count": null,
   "metadata": {},
   "outputs": [
    {
     "name": "stdout",
     "output_type": "stream",
     "text": [
      "<class 'langchain_openai.chat_models.base.ChatOpenAI'>\n",
      "client=<openai.resources.chat.completions.completions.Completions object at 0x0000019A0F103DA0> async_client=<openai.resources.chat.completions.completions.AsyncCompletions object at 0x0000019A0F6CB3B0> root_client=<openai.OpenAI object at 0x0000019A0C4CB0B0> root_async_client=<openai.AsyncOpenAI object at 0x0000019A0F6CB230> model_name='moonshotai/kimi-k2-instruct-0905' temperature=0.7 model_kwargs={} openai_api_key=SecretStr('**********') openai_api_base='https://api.groq.com/openai/v1'\n"
     ]
    }
   ],
   "source": [
    "#llm = ChatOpenAI(api_key=OPENAI_API_KEY, model_name=\"gpt-3.5-turbo-0125\")\n",
    "\n",
    "# Groq API를 사용하는 ChatOpenAI 인스턴스 생성\n",
    "llm = ChatOpenAI(\n",
    "    ##api_key=OPENAI_API_KEY,\n",
    "    base_url=\"https://api.groq.com/openai/v1\",  # Groq API 엔드포인트\n",
    "    ##model=\"meta-llama/llama-4-scout-17b-16e-instruct\",\n",
    "    ##model=\"moonshotai/kimi-k2-instruct-0905\",\n",
    "    model=\"openai/gpt-oss-120b\",\n",
    "    temperature=0.7\n",
    ")\n",
    "print(type(llm))\n",
    "print(llm)"
   ]
  },
  {
   "cell_type": "code",
   "execution_count": 12,
   "metadata": {},
   "outputs": [
    {
     "name": "stdout",
     "output_type": "stream",
     "text": [
      "<class 'langchain_core.messages.ai.AIMessage'>\n",
      "응답: 파이썬(Python)은 1991년 네덜란드의 귀도 반 로섬(Guido van Rossum)이 발표한 고급 프로그래밍 언어입니다. “코드의 가독성”과 “개발자의 생산성”을 최우선으로 설계돼, 지금까지도 “쉽고 빠르게 쓰는 언어”로 분류됩니다. 아래에 언어의 정의, 철학, 내부 구조, 생태계, 활용 분야, 최신 동향까지 단계별로 정리해 드립니다.\n",
      "\n",
      "────────────────────────\n",
      "1. 탄생 배경과 철학\n",
      "────────────────────────\n",
      "• ABC 언어의 후속: ABC는 비전문가를 위한 교육용 언어였으나, 시스템 접근성이 떨어졌습니다. 귀도는 ABC의 “배우기 쉬움”은 살리고, 운영체제 접근성과 확장성을 보완한 새 언어를 만들었습니다.  \n",
      "• “인간이 읽는 코드”를 목표:  \n",
      "  – 들여쓰기(indentation)로 블록 구조 강제 → 중괄호{} 대신 깔끔한 시각적 구조  \n",
      "  – 범위(스코프)와 흐름이 눈으로 바로 보여 가독성 ↑  \n",
      "• “배터리 포함(Batteries Included)”: 기본 라이브러리만으로도 운영체제, 웹, 압축, 암호화, 네트워크 등 대부분의 업무를 수행 가능  \n",
      "• 오픈소스·무료·크로스플랫폼: CPython 소스코드는 MIT 라이선스와 비슷한 방식으로 공개돼, 상업적 이용 가능\n",
      "\n",
      "────────────────────────\n",
      "2. 언어적 특성(語言的特性)\n",
      "────────────────────────\n",
      "1) 인터프리터형(Interpreter)  \n",
      "  소스를 한 줄씩 바이트코드로 컴파일(→*.pyc) 후 가상머신이 실행. 즉, “컴파일·링크·실행” 단계가 한 번에 이뤄져 빠른 피드백.  \n",
      "2) 객체지향 + 절차지향 + 함수형 혼합  \n",
      "  – 모든 것이 객체(1급 시민): 함수, 클래스, 모듈, 코드 조각까지 런타임에 변수에 담김  \n",
      "  – 일급 함수 + 클로저 + 데코레이터 → 고차원 함수형 패턴 가능  \n",
      "3) 동적 타이핑 + 강타이핑  \n",
      "  변수는 선언 없이 즉시 사용, 런타임에 타입이 결정. 단, ‘4’ + 4는 TypeError → 강타이핑  \n",
      "4) 자동 메모리 관리  \n",
      "  – 참조 카운팅 + 순환 감지 GC(Cyclic-GC) → 대부분의 누수 차단  \n",
      "  – 개발자는 malloc/free 없이 코딩  \n",
      "5) GIL(Global Interpreter Lock)  \n",
      "  CPython은 오직 하나의 스레드가 바이트코드를 실행. CPU-bound 병렬성은 멀티프로세싱, C확장, NumPy, Cython 등 우회 필요  \n",
      "6) 확장성  \n",
      "  C/C++, 러스트, 고(Go), 포트란 등으로 작성한 모듈을 쉽게 연결(C-API, Cython, pybind11 등)  \n",
      "7) 풀스택 생태계  \n",
      "  패키지 관리(pip, conda), 가상환경(venv, poetry), 테스트(pytest), 문서(Sphinx), CI(GitHub Actions)까지 표준화\n",
      "\n",
      "────────────────────────\n",
      "3. 내부 구조(간단한 뷰)\n",
      "────────────────────────\n",
      "사용자 소스 → 토크나이저 → 파서 → AST → 컴파일러 → 바이트코드(.pyc) → 파이썬 가상머신(PVM)  \n",
      "• AST: ast 모듈로 직접 조작 가능(코드 생성, 정적 분석)  \n",
      "• 바이트코드: dis 모듈로 어셈블리리스트 확인 가능  \n",
      "• PVM: 스택 머신 기반, 100여 개의 opcode(add, load_const, jump_absolute …)  \n",
      "• import 시 .pyc 캐시 → 재실행 시 파싱 생략 → 초기 구동속도 ↑\n",
      "\n",
      "────────────────────────\n",
      "4. 주요 표준 라이브러리(“배터리” 일부)\n",
      "────────────────────────\n",
      "os, sys, pathlib, shutil(파일시스템)  \n",
      "datetime, time, calendar(시간)  \n",
      "json, csv, sqlite3(데이터)  \n",
      "urllib, http.client, smtplib, socket(네트워크)  \n",
      "threading, multiprocessing, concurrent.futures(병행)  \n",
      "asyncio, aiohttp(비동기)  \n",
      "re(정규식), logging, argparse, unittest, pickle, gzip, hashlib, secrets, uuid, dataclasses, typing, enum, contextlib, functools, itertools, collections, heapq, bisect, statistics, math, random, decimal, fractions, turtle, tkinter(GUI) …\n",
      "\n",
      "────────────────────────\n",
      "5. 주요 서드파티 생태계\n",
      "────────────────────────\n",
      "• 데이터·AI  \n",
      "  NumPy, pandas, SciPy, scikit-learn, XGBoost, LightGBM, CatBoost  \n",
      "  TensorFlow, PyTorch, JAX, Hugging Face Transformers  \n",
      "• 시각화  \n",
      "  matplotlib, seaborn, Plotly, Altair, Bokeh  \n",
      "• 웹  \n",
      "  Django(풀스택), Flask(마이크로), FastAPI(고성능 API), Tornado, Quart, Sanic  \n",
      "• 비동기·서버  \n",
      "  asyncio, uvloop, Trio, Channels(Django WebSocket)  \n",
      "• 크롤링·자동화  \n",
      "  requests, httpx, BeautifulSoup, Scrapy, Selenium, Playwright, PyAutoGUI  \n",
      "• 데스크톱·모바일  \n",
      "  PyQt, PySide, Kivy, BeeWare(Toga), flet  \n",
      "• 과학·고성능  \n",
      "  Cython, Numba, PyPy, Nuitka, Dask, Ray, CuPy(GPU), mpi4py  \n",
      "• 패키징·배포  \n",
      "  pip, wheel, setuptools, poetry, pipenv, hatch, conda, Docker, PyInstaller(단일 실행파일), Nuitka, cx_Freeze  \n",
      "• 코드 품질  \n",
      "  black, isort, flake8, pylint, mypy(type check), bandit(보안), pre-commit, pytest, coverage\n",
      "\n",
      "────────────────────────\n",
      "6. 활용 분야(산업별 사례)\n",
      "────────────────────────\n",
      "• 웹·백엔드: Instagram, Pinterest, Reddit, Dropbox, Quora, Mozilla, Spotify(분석)  \n",
      "• 데이터분석·금융: JP모건 Athena, Bank of America Quartz, 우버 Michelangelo  \n",
      "• AI·ML·딥러닝: Google(TPU·JAX), OpenAI(GPT 스크립트), Tesla 자율주행, Stable Diffusion  \n",
      "• 과학·우주·원자력: NASA, CERN, LIGO(중력파), NOAA(기상), SKA(전파망원경)  \n",
      "• 게임·엔터: Eve Online, 자동화 테스트, Blender 3D 스크립트, 유니티 Python API  \n",
      "• 엔지니어링·CAD: FreeCAD, KiCad, Abaqus, Ansys, Rhinoceros3D, Revit(PyRevit)  \n",
      "• DevOps·자동화: Ansible, SaltStack, Fabric, Airflow, MLflow, Kubeflow  \n",
      "• 교육: Raspberry Pi, micro:bit, Lego Mindstorms, Code.org, AI 수업 언어 1순위\n",
      "\n",
      "────────────────────────\n",
      "7. 단점·고려사항\n",
      "────────────────────────\n",
      "• GIL로 인한 CPU-bound 멀티스레드 한계  \n",
      "• 런타임 속도는 C/C++ 대비 느림(10~50배). 하지만 NumPy, PyPy, Cython, 머신러닝 백엔드(CUDA)로 90% 이상 해결 가능  \n",
      "• 모바일·임베디드 메모리 사용량이 큼(안드로이드·iOS 네이티브 앱 제한)  \n",
      "• 동적 타이핑으로 런타임 오류 가능 → 타입 힌트·정적 분석(myPy) 권장  \n",
      "• 패키지 의존성 지옥 가능 → venv, poetry, conda로 고립\n",
      "\n",
      "────────────────────────\n",
      "8. 최신 동향(2023~2024)\n",
      "────────────────────────\n",
      "• 파이썬 3.12  \n",
      "  – GIL 개선(실험적) → PEP 703(“nogil”)  \n",
      "  – f-string 파싱 속도 ↑, 에러 메시지 위치 ↑, 타입 파라미터(제네릭) 간소화  \n",
      "  – pathlib walk, 새로운 디버거(sys.last_exc) 등  \n",
      "• 웹: FastAPI 0.100+ (OpenAPI 3.1, pydantic v2 → 5~20배 빨라짐)  \n",
      "• 데이터: pandas 2.0 (pyarrow 백엔드), polars(러스트 기반) 급부상  \n",
      "• AI: PyTorch 2.x compile 모드(5~150% 성능), ONNX, GGML(양자화), OpenAI Triton  \n",
      "• 패키징: PEP 723 → 단일 스크립트에 의존성 기재 가능, PEP 668 외부 패키지 보호  \n",
      "• 임베디드: MicroPython, CircuitPython, RP2040, ESP32, PyScript(브라우저 내 CPython via WebAssembly)  \n",
      "• 병렬성: Ray, Dask, JAX, Modin, PySpark, joblib, numba-prange, multiprocessing.shared_memory\n",
      "\n",
      "────────────────────────\n",
      "9. “Hello, World!” 에서 고급까지\n",
      "────────────────────────\n",
      "1) 기본\n",
      "```python\n",
      "print(\"Hello, World!\")\n",
      "```\n",
      "\n",
      "2) 가상환경 생성 & 패키지 설치\n",
      "```bash\n",
      "python -m venv .venv\n",
      "source .venv/bin/activate  # Windows: .venv\\Scripts\\activate\n",
      "pip install requests pandas\n",
      "```\n",
      "\n",
      "3) 간단한 데이터 분석\n",
      "```python\n",
      "import pandas as pd\n",
      "import seaborn as sns\n",
      "import matplotlib.pyplot as plt\n",
      "\n",
      "df = pd.read_csv(\"https://raw.githubusercontent.com/mwaskom/seaborn-data/master/iris.csv\")\n",
      "sns.pairplot(df, hue=\"species\")\n",
      "plt.show()\n",
      "```\n",
      "\n",
      "4) FastAPI로 REST API\n",
      "```python\n",
      "from fastapi import FastAPI\n",
      "app = FastAPI()\n",
      "\n",
      "@app.get(\"/\")\n",
      "def root():\n",
      "    return {\"message\": \"Hello, World\"}\n",
      "```\n",
      "실행: `uvicorn main:app --reload`\n",
      "\n",
      "5) 비동기 다운로드\n",
      "```python\n",
      "import asyncio, aiohttp, time\n",
      "async def fetch(session, url):\n",
      "    async with session.get(url) as resp:\n",
      "        return await resp.text()\n",
      "async def main():\n",
      "    urls = [\"https://httpbin.org/delay/1\"] * 10\n",
      "    async with aiohttp.ClientSession() as s:\n",
      "        await asyncio.gather(*(fetch(s, u) for u in urls))\n",
      "asyncio.run(main())\n",
      "```\n",
      "\n",
      "6) Cython으로 성능 향상\n",
      "```python\n",
      "# cy_sum.pyx\n",
      "def cy_sum(int n):\n",
      "    cdef int i, s=0\n",
      "    for i in range(n):\n",
      "        s += i\n",
      "    return s\n",
      "```\n",
      "`cythonize -i cy_sum.pyx` 후 임포트\n",
      "\n",
      "────────────────────────\n",
      "10. 학습 로드맵(추천)\n",
      "────────────────────────\n",
      "1. 기초 문법(변수, 자료형, 함수, 클래스, 예외)  \n",
      "2. 표준 라이브러리(파일·경로·날짜·정규식·CSV·JSON·sqlite)  \n",
      "3. 가상환경·패키지 관리(pip, venv, poetry)  \n",
      "4. 타입 힌트·단위 테스트·디버깅(pdb, breakpoint)  \n",
      "5. 고급(데코레이터·컨텍스트 관리자·메타클래스·프로토콜)  \n",
      "6. 데이터(pandas, NumPy) → 시각화(matplotlib, seaborn, Plotly)  \n",
      "7. 웹(Flask → FastAPI 또는 Django)  \n",
      "8. 비동기(asyncio, aiohttp, Trio)  \n",
      "9. 패키징·CI/CD·도커·테스트 자동화  \n",
      "10. 고성능/병렬(Cython, Numba, multiprocessing, PySpark, Ray)\n",
      "\n",
      "────────────────────────\n",
      "요약\n",
      "────────────────────────\n",
      "파이썬은 “읽기 쉬운 문법 + 방대한 라이브러리 + 강력한 커뮤니티”를 통해 스크립팅·자동화부터 머신러닝·대규모 백엔드까지 폭넓게 사용되는 범용 언어입니다. GIL·속도 문제는 확장 모듈, JIT, 고성능 라이브러리로 보완 가능하며, 2023년 기준 전 세계에서 가장 많이 성장하는 언어 중 하나입니다.\n"
     ]
    }
   ],
   "source": [
    "try:\n",
    "    response = llm.invoke(prompt_text)\n",
    "    print(type(response))\n",
    "    print(\"응답:\", response.content)\n",
    "except Exception as e:\n",
    "    print(f\"오류 발생: {e}\")"
   ]
  },
  {
   "cell_type": "markdown",
   "metadata": {},
   "source": [
    "# LCEL"
   ]
  },
  {
   "cell_type": "code",
   "execution_count": 13,
   "metadata": {},
   "outputs": [],
   "source": [
    "from langchain_core.output_parsers import StrOutputParser\n",
    "\n",
    "output_parser = StrOutputParser()"
   ]
  },
  {
   "cell_type": "code",
   "execution_count": 14,
   "metadata": {},
   "outputs": [
    {
     "name": "stdout",
     "output_type": "stream",
     "text": [
      "<class 'langchain_core.runnables.base.RunnableSequence'>\n",
      "first=ChatPromptTemplate(input_variables=['input'], input_types={}, partial_variables={}, messages=[SystemMessagePromptTemplate(prompt=PromptTemplate(input_variables=[], input_types={}, partial_variables={}, template='당신은 개발자입니다.'), additional_kwargs={}), HumanMessagePromptTemplate(prompt=PromptTemplate(input_variables=['input'], input_types={}, partial_variables={}, template='{input}'), additional_kwargs={})]) middle=[ChatOpenAI(client=<openai.resources.chat.completions.completions.Completions object at 0x0000019A0F103DA0>, async_client=<openai.resources.chat.completions.completions.AsyncCompletions object at 0x0000019A0F6CB3B0>, root_client=<openai.OpenAI object at 0x0000019A0C4CB0B0>, root_async_client=<openai.AsyncOpenAI object at 0x0000019A0F6CB230>, model_name='moonshotai/kimi-k2-instruct-0905', temperature=0.7, model_kwargs={}, openai_api_key=SecretStr('**********'), openai_api_base='https://api.groq.com/openai/v1')] last=StrOutputParser()\n"
     ]
    }
   ],
   "source": [
    "chain = prompt | llm | output_parser\n",
    "print(type(chain))\n",
    "print(chain)"
   ]
  },
  {
   "cell_type": "code",
   "execution_count": 15,
   "metadata": {},
   "outputs": [],
   "source": [
    "response = chain.invoke({\"input\":\"지구의 자전주기는 얼마인가요?\"})"
   ]
  },
  {
   "cell_type": "code",
   "execution_count": 16,
   "metadata": {},
   "outputs": [
    {
     "name": "stdout",
     "output_type": "stream",
     "text": [
      "<class 'str'>\n",
      "지구의 자전 주기는 **약 23시간 56분 4초**입니다. 이를 **1 sidereal day(항성일)**이라고 합니다. 이것은 지구가 한 바퀴 돌아서 먼 별을 기준으로 같은 방향을 향할 때까지 걸리는 시간입니다.\n",
      "\n",
      "그러나 우리가 일상에서 사용하는 **하루(24시간)**는 **태양을 기준**으로 할 때의 주기입니다. 이를 **solar day(태양일)**이라고 하며, 지구가 태양을 기준으로 같은 위치를 향할 때까지 걸리는 시간입니다. 이 차이는 지구가 태양 주위를 공전하면서 하루 조금씩 위치가 바뀌기 때문입니다.\n"
     ]
    }
   ],
   "source": [
    "print(type(response))\n",
    "print(response)"
   ]
  }
 ],
 "metadata": {
  "kernelspec": {
   "display_name": "mylangchain-app-SBe-Yh6W-py3.12",
   "language": "python",
   "name": "python3"
  },
  "language_info": {
   "codemirror_mode": {
    "name": "ipython",
    "version": 3
   },
   "file_extension": ".py",
   "mimetype": "text/x-python",
   "name": "python",
   "nbconvert_exporter": "python",
   "pygments_lexer": "ipython3",
   "version": "3.12.7"
  }
 },
 "nbformat": 4,
 "nbformat_minor": 2
}
